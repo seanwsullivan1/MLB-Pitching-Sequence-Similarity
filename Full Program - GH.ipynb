{
 "cells": [
  {
   "cell_type": "code",
   "execution_count": 1,
   "id": "d3ef6149-94be-4d39-8ff6-8ddf837c17a2",
   "metadata": {},
   "outputs": [],
   "source": [
    "import pandas as pd\n",
    "pd.options.mode.chained_assignment = None  # default='warn'\n",
    "import numpy as np\n",
    "import seaborn as sns\n",
    "import time\n",
    "import difflib\n",
    "from collections import Counter"
   ]
  },
  {
   "cell_type": "code",
   "execution_count": 2,
   "id": "4e8d01bd-3f95-4587-88b5-3d876e356438",
   "metadata": {},
   "outputs": [],
   "source": [
    "import google.auth\n",
    "from google.cloud import bigquery\n",
    "import pandas_gbq\n",
    "\n",
    "credentials, your_project_id = google.auth.default(\n",
    "    scopes = ['https://www.googleapis.com/auth/cloud-platform']\n",
    ")\n",
    "\n",
    "gcp_project = 'GCP_PROJECT_NAME_HERE'\n",
    "\n",
    "client = bigquery.Client(project=gcp_project)"
   ]
  },
  {
   "cell_type": "code",
   "execution_count": 3,
   "id": "d19f89b8-dc04-42f3-bf74-7b7cfc7c0cb5",
   "metadata": {},
   "outputs": [],
   "source": [
    "def run_query():\n",
    "    '''Runs query and returns a dataframe'''\n",
    "    \n",
    "    query = \"\"\"\n",
    "    # BQ Query HERE\n",
    "    ;\n",
    "    \"\"\"\n",
    "\n",
    "    query_job = client.query(\n",
    "        query, \n",
    "        location = 'US'\n",
    "    )\n",
    "\n",
    "    df = query_job.result().to_dataframe()\n",
    "    \n",
    "    return(df)"
   ]
  },
  {
   "cell_type": "code",
   "execution_count": 4,
   "id": "0015eadd-ebd5-4367-b5ad-ab091e1bc16a",
   "metadata": {},
   "outputs": [],
   "source": [
    "def get_pitcher_list(df):\n",
    "    '''Function takes a dataframe and returns a list of each pitcher id present in the df'''\n",
    "    \n",
    "    pitcher_list = df.pitcher.unique().tolist()\n",
    "    \n",
    "    return(pitcher_list)"
   ]
  },
  {
   "cell_type": "code",
   "execution_count": 5,
   "id": "db6d8210-cd5d-49d1-81a3-8edc1afa252d",
   "metadata": {},
   "outputs": [],
   "source": [
    "def get_sequence_list(pitcher_id, df):\n",
    "    '''Function takes a pitcher id and dataframe; returns a list of lists (each at bat sequence is a list within the master list)'''\n",
    "    \n",
    "    # filter dataframe for pitcher\n",
    "    df_filtered = df.loc[df['pitcher'] == pitcher_id]\n",
    "    \n",
    "    # turn striny value from sequence2 field into a list\n",
    "    df_filtered['sequence2_lst'] = df_filtered.sequence2.apply(lambda x: x.split(','))\n",
    "    \n",
    "    # take all row values of sequence2_lst and turn into a list of lists\n",
    "    seq_list = df_filtered['sequence2_lst'].values.tolist()\n",
    "    \n",
    "    # also get name of pitcher\n",
    "    try:\n",
    "        player_name = df_filtered['player_name'].iloc[0]\n",
    "    except IndexError:\n",
    "        player_name = 'Unknown'\n",
    "    \n",
    "    \n",
    "    return(seq_list, player_name)"
   ]
  },
  {
   "cell_type": "code",
   "execution_count": 6,
   "id": "d3086676-34f8-4073-931f-9dfb0e929d1c",
   "metadata": {},
   "outputs": [],
   "source": [
    "def get_sequence_matcher_ratio_average(pitcher_id, player_name, sequence_list):\n",
    "    '''Function takes a pitcher id, player name, and list of sequence lists; returns a dictionary with the player's information and average similarity ratio'''\n",
    "    \n",
    "    player_results = []\n",
    "    \n",
    "    loop_index = 0\n",
    "    total_match_len = 0\n",
    "    total_len = 0\n",
    "\n",
    "    for x in range (len(sequence_list)):\n",
    "\n",
    "        loop_index = 0\n",
    "        for loop_index in range(len(sequence_list)):\n",
    "            if x == loop_index:\n",
    "                pass\n",
    "            else:\n",
    "                sm = difflib.SequenceMatcher(None, sequence_list[x], sequence_list[loop_index])\n",
    "                \n",
    "                matches = sum(match_len[-1] for match_len in sm.get_matching_blocks())\n",
    "                total_match_len += matches\n",
    "                \n",
    "                seq_len = len(sequence_list[x]) + len(sequence_list[loop_index])\n",
    "                total_len += seq_len\n",
    "                \n",
    "                loop_index +=1\n",
    "\n",
    "    try:\n",
    "        overall_ratio = 2* (total_match_len / total_len)\n",
    "    except ZeroDivisionError:\n",
    "        overall_ratio = 0\n",
    "    \n",
    "    # results\n",
    "    results_dict = {'Pitcher':pitcher_id, 'Player_Name': player_name, 'Overall_Ratio': overall_ratio, 'Match' : total_match_len, 'Len':total_len}\n",
    "    \n",
    "    return(results_dict)"
   ]
  },
  {
   "cell_type": "code",
   "execution_count": 7,
   "id": "c2e2c899-f477-4ed2-a5a2-bb01c1164bd8",
   "metadata": {},
   "outputs": [],
   "source": [
    "def generate_pitcher_results(pitcher_list, df):\n",
    "    '''Function takes pitcher list and dataframe, runs a loop of each pitcher, returns their results dictionary, and then appends to a master dataframe which is returned by the function'''\n",
    "    \n",
    "    results_list = []\n",
    "\n",
    "    \n",
    "    for p in pitcher_list:\n",
    "        sl, pn  = get_sequence_list(p, df)\n",
    "\n",
    "        rd = get_sequence_matcher_ratio_average(p, pn, sl)\n",
    "\n",
    "        results_list.append(rd)\n",
    "        \n",
    "    results_df = pd.DataFrame(results_list)  \n",
    "\n",
    "    return(results_df)"
   ]
  },
  {
   "cell_type": "code",
   "execution_count": 8,
   "id": "81d2251c-d465-4613-ba72-b9ebcead5bc7",
   "metadata": {},
   "outputs": [],
   "source": [
    "def run_full_program():\n",
    "    '''Function executes the entire program'''\n",
    "    \n",
    "    df = run_query()\n",
    "\n",
    "    pitcher_list = get_pitcher_list(df)\n",
    "\n",
    "    df_results = generate_pitcher_results(pitcher_list, df)\n",
    "    \n",
    "    return(df_results)"
   ]
  },
  {
   "cell_type": "code",
   "execution_count": 9,
   "id": "50307e4f-b806-46ed-a825-05b33656a6ca",
   "metadata": {},
   "outputs": [
    {
     "name": "stdout",
     "output_type": "stream",
     "text": [
      "Runtime:  2.3376150131225586\n"
     ]
    }
   ],
   "source": [
    "start = time.time()\n",
    "\n",
    "file = run_full_program()\n",
    "\n",
    "print('Runtime: ', time.time() - start)"
   ]
  },
  {
   "cell_type": "code",
   "execution_count": 10,
   "id": "002a4bce-2947-4f10-b22f-38d865c34583",
   "metadata": {},
   "outputs": [
    {
     "data": {
      "text/html": [
       "<div>\n",
       "<style scoped>\n",
       "    .dataframe tbody tr th:only-of-type {\n",
       "        vertical-align: middle;\n",
       "    }\n",
       "\n",
       "    .dataframe tbody tr th {\n",
       "        vertical-align: top;\n",
       "    }\n",
       "\n",
       "    .dataframe thead th {\n",
       "        text-align: right;\n",
       "    }\n",
       "</style>\n",
       "<table border=\"1\" class=\"dataframe\">\n",
       "  <thead>\n",
       "    <tr style=\"text-align: right;\">\n",
       "      <th></th>\n",
       "      <th>Pitcher</th>\n",
       "      <th>Player_Name</th>\n",
       "      <th>Overall_Ratio</th>\n",
       "      <th>Match</th>\n",
       "      <th>Len</th>\n",
       "    </tr>\n",
       "  </thead>\n",
       "  <tbody>\n",
       "    <tr>\n",
       "      <th>0</th>\n",
       "      <td>605483</td>\n",
       "      <td>Snell, Blake</td>\n",
       "      <td>0.426535</td>\n",
       "      <td>1077</td>\n",
       "      <td>5050</td>\n",
       "    </tr>\n",
       "  </tbody>\n",
       "</table>\n",
       "</div>"
      ],
      "text/plain": [
       "   Pitcher   Player_Name  Overall_Ratio  Match   Len\n",
       "0   605483  Snell, Blake       0.426535   1077  5050"
      ]
     },
     "execution_count": 10,
     "metadata": {},
     "output_type": "execute_result"
    }
   ],
   "source": [
    "file"
   ]
  }
 ],
 "metadata": {
  "environment": {
   "kernel": "python3",
   "name": "common-cpu.m87",
   "type": "gcloud",
   "uri": "gcr.io/deeplearning-platform-release/base-cpu:m87"
  },
  "kernelspec": {
   "display_name": "Python 3",
   "language": "python",
   "name": "python3"
  },
  "language_info": {
   "codemirror_mode": {
    "name": "ipython",
    "version": 3
   },
   "file_extension": ".py",
   "mimetype": "text/x-python",
   "name": "python",
   "nbconvert_exporter": "python",
   "pygments_lexer": "ipython3",
   "version": "3.7.12"
  }
 },
 "nbformat": 4,
 "nbformat_minor": 5
}
